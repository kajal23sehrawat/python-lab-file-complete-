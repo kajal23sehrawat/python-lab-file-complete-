{
 "cells": [
  {
   "cell_type": "markdown",
   "metadata": {},
   "source": [
    "## LAB 9"
   ]
  },
  {
   "cell_type": "markdown",
   "metadata": {},
   "source": [
    "## KAJAL SEHRAWAT\n",
    "## 2K18CSUN01022"
   ]
  },
  {
   "cell_type": "markdown",
   "metadata": {},
   "source": [
    "## QUES1"
   ]
  },
  {
   "cell_type": "code",
   "execution_count": 1,
   "metadata": {},
   "outputs": [
    {
     "name": "stdout",
     "output_type": "stream",
     "text": [
      "The animal leg is black\n",
      "The leg of tiger is yellow\n"
     ]
    }
   ],
   "source": [
    "class Animal:\n",
    "    aleg=\"black\"\n",
    "    def leg(self):\n",
    "        print(\"The animal leg is\", self.aleg)\n",
    "        \n",
    "class Dog(Animal):\n",
    "    def call_leg(self):\n",
    "        self.leg()\n",
    "        self.aleg=\"yellow\"\n",
    "        print(\"The leg of tiger is\",self.aleg)\n",
    "        \n",
    "class Tiger(Dog):\n",
    "    def call_dog(self):\n",
    "        self.call_leg()\n",
    "        \n",
    "obj=Tiger()\n",
    "obj.call_dog()"
   ]
  },
  {
   "cell_type": "markdown",
   "metadata": {},
   "source": [
    "## QUES2"
   ]
  },
  {
   "cell_type": "code",
   "execution_count": 4,
   "metadata": {},
   "outputs": [
    {
     "name": "stdout",
     "output_type": "stream",
     "text": [
      "THIS IS ENGINEER\n",
      "THIS IS MANAGER\n"
     ]
    }
   ],
   "source": [
    "class Employee:\n",
    "    eng=\"THIS IS ENGINEER\"\n",
    "    mangr=\"THIS IS MANAGER\"\n",
    "    \n",
    "class Engineer(Employee):\n",
    "    def printDesignation(self):\n",
    "        print(self.eng)\n",
    "        \n",
    "class Manager(Engineer):\n",
    "    def printDesignation(self):\n",
    "        Engineer.printDesignation(self)\n",
    "        print(self.mangr)\n",
    "        \n",
    "obj=Manager()\n",
    "obj.printDesignation()"
   ]
  },
  {
   "cell_type": "markdown",
   "metadata": {},
   "source": [
    "## QUES3"
   ]
  },
  {
   "cell_type": "code",
   "execution_count": 5,
   "metadata": {},
   "outputs": [
    {
     "name": "stdout",
     "output_type": "stream",
     "text": [
      "the name of class is Student\n",
      "value of attribute a is abc\n",
      "value of attribute b is xyz\n"
     ]
    }
   ],
   "source": [
    "class Student:\n",
    "    a=\"abc\"\n",
    "    b=\"xyz\"\n",
    "    def Studentname(self):\n",
    "        print(\"value of attribute a is\",self.a)\n",
    "        print(\"value of attribute b is\",self.b)\n",
    "        \n",
    "print(\"the name of class is Student\")\n",
    "obj=Student()\n",
    "obj.Studentname()"
   ]
  },
  {
   "cell_type": "markdown",
   "metadata": {},
   "source": [
    "## QUES4"
   ]
  },
  {
   "cell_type": "code",
   "execution_count": 6,
   "metadata": {},
   "outputs": [
    {
     "name": "stdout",
     "output_type": "stream",
     "text": [
      "class Manager inherit class Employee and Engineer\n",
      "THIS IS ENGINEER\n",
      "THIS IS MANAGER\n"
     ]
    }
   ],
   "source": [
    "class Employee:\n",
    "    eng=\"THIS IS ENGINEER\"\n",
    "    mangr=\"THIS IS MANAGER\"\n",
    "    \n",
    "class Engineer(Employee):\n",
    "    def printDesignation(self):\n",
    "        print(self.eng)\n",
    "        \n",
    "class Manager(Engineer):\n",
    "    def printDesignation(self):\n",
    "        print(\"class Manager inherit class Employee and Engineer\")\n",
    "        Engineer.printDesignation(self)\n",
    "        print(self.mangr)\n",
    "        \n",
    "obj=Manager()\n",
    "obj.printDesignation()"
   ]
  },
  {
   "cell_type": "markdown",
   "metadata": {},
   "source": [
    "## QUES5"
   ]
  },
  {
   "cell_type": "code",
   "execution_count": 7,
   "metadata": {},
   "outputs": [
    {
     "name": "stdout",
     "output_type": "stream",
     "text": [
      "B\n"
     ]
    }
   ],
   "source": [
    "class A:\n",
    "    def a(self):\n",
    "        print(\"A\")\n",
    "        \n",
    "class B(A):\n",
    "    def a(self):\n",
    "        print(\"B\")\n",
    "        \n",
    "class C(A):\n",
    "    def a(self):\n",
    "        print(\"C\")\n",
    "        \n",
    "class D(B, C):\n",
    "    pass\n",
    "\n",
    "obj=D()\n",
    "obj.a()\n",
    "    "
   ]
  },
  {
   "cell_type": "code",
   "execution_count": null,
   "metadata": {},
   "outputs": [],
   "source": []
  }
 ],
 "metadata": {
  "kernelspec": {
   "display_name": "Python 3",
   "language": "python",
   "name": "python3"
  },
  "language_info": {
   "codemirror_mode": {
    "name": "ipython",
    "version": 3
   },
   "file_extension": ".py",
   "mimetype": "text/x-python",
   "name": "python",
   "nbconvert_exporter": "python",
   "pygments_lexer": "ipython3",
   "version": "3.7.4"
  }
 },
 "nbformat": 4,
 "nbformat_minor": 2
}
