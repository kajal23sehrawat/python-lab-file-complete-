{
 "cells": [
  {
   "cell_type": "markdown",
   "metadata": {},
   "source": [
    "## LAB 7"
   ]
  },
  {
   "cell_type": "markdown",
   "metadata": {},
   "source": [
    "## KAJAL\n",
    "## 2K18CSUN01022"
   ]
  },
  {
   "cell_type": "markdown",
   "metadata": {},
   "source": [
    "## Ques1"
   ]
  },
  {
   "cell_type": "code",
   "execution_count": 39,
   "metadata": {},
   "outputs": [
    {
     "name": "stdout",
     "output_type": "stream",
     "text": [
      "Enter the first number: 6\n",
      "Enter the second number: 4\n",
      "the product of given numbers is:  24\n"
     ]
    }
   ],
   "source": [
    "def mul(a,b):\n",
    "    multiply=a*b;\n",
    "    return multiply;\n",
    "num1= int(input(\"Enter the first number: \"))\n",
    "num2= int(input(\"Enter the second number: \"))\n",
    "\n",
    "print(\"the product of given numbers is: \",mul(num1,num2))\n"
   ]
  },
  {
   "cell_type": "markdown",
   "metadata": {},
   "source": [
    "## Ques2"
   ]
  },
  {
   "cell_type": "code",
   "execution_count": 1,
   "metadata": {},
   "outputs": [
    {
     "name": "stdout",
     "output_type": "stream",
     "text": [
      "Enter the first number: 5\n",
      "Enter the second number: 3\n",
      "The sum is 8\n"
     ]
    }
   ],
   "source": [
    "def add(a,b):\n",
    "    sum=a+b;\n",
    "    return sum;\n",
    "num1= int(input(\"Enter the first number: \"))\n",
    "num2= int(input(\"Enter the second number: \"))\n",
    "print(\"The sum is\",add(num1,num2))"
   ]
  },
  {
   "cell_type": "markdown",
   "metadata": {},
   "source": [
    "## Ques3"
   ]
  },
  {
   "cell_type": "code",
   "execution_count": 3,
   "metadata": {},
   "outputs": [
    {
     "name": "stdout",
     "output_type": "stream",
     "text": [
      "Enter the number: 4\n",
      "The factorial of 4 = 24\n"
     ]
    }
   ],
   "source": [
    "def factorial(num):\n",
    "    fact=1\n",
    "    for i in range(1, num+1):\n",
    "        fact=fact*i\n",
    "    return fact\n",
    "num=int(input(\"Enter the number: \"))\n",
    "a=factorial(num)\n",
    "print(\"The factorial of %d = %d\"%(num,a))\n"
   ]
  },
  {
   "cell_type": "markdown",
   "metadata": {},
   "source": [
    "## Ques4"
   ]
  },
  {
   "cell_type": "code",
   "execution_count": 7,
   "metadata": {},
   "outputs": [
    {
     "name": "stdout",
     "output_type": "stream",
     "text": [
      "Enter the number of terms: 5\n",
      "Fibonacci sequence:\n",
      "0\n",
      "1\n",
      "1\n",
      "2\n",
      "3\n"
     ]
    }
   ],
   "source": [
    "def fibonacci(n):\n",
    "   if n <= 1:\n",
    "       return n\n",
    "   else:\n",
    "       return(fibonacci(n-1) + fibonacci(n-2))\n",
    "\n",
    "nterms = int(input(\"Enter the number of terms: \"))\n",
    "\n",
    "if nterms <= 0:\n",
    "   print(\"Plese enter a positive integer\")\n",
    "else:\n",
    "   print(\"Fibonacci sequence:\")\n",
    "   for i in range(nterms):\n",
    "       print(fibonacci(i))"
   ]
  },
  {
   "cell_type": "markdown",
   "metadata": {},
   "source": [
    "## Ques5"
   ]
  },
  {
   "cell_type": "code",
   "execution_count": 8,
   "metadata": {},
   "outputs": [
    {
     "name": "stdout",
     "output_type": "stream",
     "text": [
      "Enter the first number: 23\n",
      "Enter the second number: 26\n",
      "Value of a is 26\n",
      "Value of b is 23\n"
     ]
    }
   ],
   "source": [
    "a = int(input(\"Enter the first number: \"))\n",
    "b = int(input(\"Enter the second number: \"))\n",
    "temp = a\n",
    "a = b\n",
    "b = temp\n",
    "\n",
    "print(\"Value of a is %d\" %a)\n",
    "print(\"Value of b is %d\" %b)\n"
   ]
  },
  {
   "cell_type": "markdown",
   "metadata": {},
   "source": [
    "## Ques6"
   ]
  },
  {
   "cell_type": "code",
   "execution_count": 9,
   "metadata": {},
   "outputs": [
    {
     "name": "stdout",
     "output_type": "stream",
     "text": [
      "Enter first number: 5\n",
      "Enter second number: 8\n",
      "The H.C.F. of 5 and 8 is 1\n"
     ]
    }
   ],
   "source": [
    "def hcf(x, y):\n",
    "    if x > y:\n",
    "        smaller = y\n",
    "    else:\n",
    "        smaller = x\n",
    "    for i in range(1, smaller + 1):\n",
    "        if ((x % i == 0) and (y % i == 0)):\n",
    "            hcf = i\n",
    "    return hcf\n",
    "\n",
    "\n",
    "num1 = int(input(\"Enter first number: \"))\n",
    "num2 = int(input(\"Enter second number: \"))\n",
    "print(\"The H.C.F. of\", num1, \"and\", num2, \"is\", hcf(num1, num2))\n"
   ]
  },
  {
   "cell_type": "markdown",
   "metadata": {},
   "source": [
    "## Ques7"
   ]
  },
  {
   "cell_type": "code",
   "execution_count": 14,
   "metadata": {},
   "outputs": [
    {
     "name": "stdout",
     "output_type": "stream",
     "text": [
      "Enter ASCII value: 69\n",
      "E\n",
      "Enter ASCII value: 88\n",
      "X\n"
     ]
    }
   ],
   "source": [
    "a = int(input(\"Enter ASCII value: \"))\n",
    "print(chr(a))\n",
    "\n",
    "b = int(input(\"Enter ASCII value: \"))\n",
    "print(chr(b))\n"
   ]
  },
  {
   "cell_type": "markdown",
   "metadata": {},
   "source": [
    "## Ques8"
   ]
  },
  {
   "cell_type": "code",
   "execution_count": 16,
   "metadata": {},
   "outputs": [
    {
     "name": "stdout",
     "output_type": "stream",
     "text": [
      "The ceil of 4.2 is : 5\n",
      "The floor of 4.2 is : 4\n"
     ]
    }
   ],
   "source": [
    "import math\n",
    "a = 4.2\n",
    "print (\"The ceil of 4.2 is : \", end=\"\")\n",
    "print (math.ceil(a)) \n",
    "print (\"The floor of 4.2 is : \", end=\"\")\n",
    "print (math.floor(a))\n"
   ]
  },
  {
   "cell_type": "markdown",
   "metadata": {},
   "source": [
    "## Ques9"
   ]
  },
  {
   "cell_type": "code",
   "execution_count": 18,
   "metadata": {},
   "outputs": [
    {
     "name": "stdout",
     "output_type": "stream",
     "text": [
      "Number of ticks since 10:00am, October 12, 2019: 1585730539.514159\n"
     ]
    }
   ],
   "source": [
    "import time;\n",
    "ticks = time.time()\n",
    "print(\"Number of ticks since 10:00am, October 12, 2019:\", ticks)\n"
   ]
  },
  {
   "cell_type": "markdown",
   "metadata": {},
   "source": [
    "## Ques10"
   ]
  },
  {
   "cell_type": "code",
   "execution_count": 27,
   "metadata": {},
   "outputs": [
    {
     "name": "stdout",
     "output_type": "stream",
     "text": [
      "Thank You Thank you, Please visit again\n"
     ]
    }
   ],
   "source": [
    "def greet(name,msg):\n",
    "    \"\"\"this function thanks the customer for visiting the store\"\"\"\n",
    "    print(\"Thank You\",name + ', ' + msg)\n",
    "\n",
    "greet(\"Thank you\",\"Please visit again\")"
   ]
  },
  {
   "cell_type": "markdown",
   "metadata": {},
   "source": [
    "## Ques11"
   ]
  },
  {
   "cell_type": "code",
   "execution_count": 31,
   "metadata": {},
   "outputs": [
    {
     "name": "stdout",
     "output_type": "stream",
     "text": [
      "Zurich and Geneva are in Switzerland\n"
     ]
    }
   ],
   "source": [
    "def print_place(p1, p2):\n",
    "  \"\"\" This function prints the name of cities  \"\"\"\n",
    "  print (p1 + \" and \" + p2 + \" are in Switzerland\")\n",
    "\n",
    "print_place(p1 = 'Zurich',p2 = 'Geneva')\n"
   ]
  },
  {
   "cell_type": "markdown",
   "metadata": {},
   "source": [
    "## Ques12"
   ]
  },
  {
   "cell_type": "code",
   "execution_count": 34,
   "metadata": {},
   "outputs": [
    {
     "name": "stdout",
     "output_type": "stream",
     "text": [
      "10\n",
      "15\n"
     ]
    }
   ],
   "source": [
    "def sum(a=10, b=5):\n",
    "  \"\"\" This function will print sum of two numbers\n",
    "      if the arguments are not supplied\n",
    "      it will add the default value \"\"\"\n",
    "  print (a+b)\n",
    "\n",
    "sum(4,6)\n",
    "sum( )"
   ]
  },
  {
   "cell_type": "markdown",
   "metadata": {},
   "source": [
    "## Ques13"
   ]
  },
  {
   "cell_type": "code",
   "execution_count": 36,
   "metadata": {},
   "outputs": [
    {
     "name": "stdout",
     "output_type": "stream",
     "text": [
      "ram\n",
      "sham\n",
      "riya\n",
      "('ram', '90')\n",
      "('sham', '65')\n",
      "('riya', '80')\n"
     ]
    }
   ],
   "source": [
    "def display(*name, **address):\n",
    "  for items in name:\n",
    "    print (items)\n",
    "\n",
    "  for items in address.items():\n",
    "    print (items)\n",
    "\n",
    "display('ram','sham','riya',ram='90',sham='65',riya='80')"
   ]
  },
  {
   "cell_type": "code",
   "execution_count": null,
   "metadata": {},
   "outputs": [],
   "source": []
  }
 ],
 "metadata": {
  "kernelspec": {
   "display_name": "Python 3",
   "language": "python",
   "name": "python3"
  },
  "language_info": {
   "codemirror_mode": {
    "name": "ipython",
    "version": 3
   },
   "file_extension": ".py",
   "mimetype": "text/x-python",
   "name": "python",
   "nbconvert_exporter": "python",
   "pygments_lexer": "ipython3",
   "version": "3.7.4"
  }
 },
 "nbformat": 4,
 "nbformat_minor": 4
}
