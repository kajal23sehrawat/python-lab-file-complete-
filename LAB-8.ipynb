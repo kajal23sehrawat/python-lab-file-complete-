{
 "cells": [
  {
   "cell_type": "markdown",
   "metadata": {},
   "source": [
    "## LAB 8"
   ]
  },
  {
   "cell_type": "markdown",
   "metadata": {},
   "source": [
    "## KAJAL SEHRAWAT\n",
    "## 2K18CSUN01022\n",
    "## BTECH CSE 4A"
   ]
  },
  {
   "cell_type": "markdown",
   "metadata": {},
   "source": [
    "## Ques1"
   ]
  },
  {
   "cell_type": "code",
   "execution_count": null,
   "metadata": {},
   "outputs": [],
   "source": [
    "class Triangle:\n",
    "    a=0\n",
    "    b=0\n",
    "    c=0\n",
    "    def create_triangle(self):\n",
    "        self.a=int(input(\"Enter The First Side: \"))\n",
    "        self.b=int(input(\"Enter The Second Side:  \"))\n",
    "        self.c = int(input(\"Enter The Third Side:  \"))\n",
    "    def printside(self):\n",
    "        print(self.a)\n",
    "        print(self.b)\n",
    "        print(self.c)\n",
    "\n",
    "tr=Triangle()\n",
    "tr.create_triangle()\n",
    "print(\"The Sides Of Triangle are\")\n",
    "tr.printside()"
   ]
  },
  {
   "cell_type": "markdown",
   "metadata": {},
   "source": [
    "## Ques2"
   ]
  },
  {
   "cell_type": "code",
   "execution_count": 4,
   "metadata": {},
   "outputs": [
    {
     "name": "stdout",
     "output_type": "stream",
     "text": [
      "Enter The String:  hello how are you\n",
      "The input string is:  hello how are you\n"
     ]
    }
   ],
   "source": [
    "class String:\n",
    "    a=\"\"\n",
    "    def gets(self):\n",
    "        self.a=input(\"Enter The String:  \")\n",
    "        return (self.a)\n",
    "str=String()\n",
    "print(\"The input string is: \" ,str.gets())"
   ]
  },
  {
   "cell_type": "markdown",
   "metadata": {},
   "source": [
    "## Ques3"
   ]
  },
  {
   "cell_type": "code",
   "execution_count": 5,
   "metadata": {},
   "outputs": [
    {
     "name": "stdout",
     "output_type": "stream",
     "text": [
      "Enter The length: 8\n",
      "Enter The width: 4\n",
      "The Perimeter of Rectangle is:  24\n"
     ]
    }
   ],
   "source": [
    "class Rectangle:\n",
    "    l=0.0\n",
    "    w=0.0\n",
    "    def rect(self):\n",
    "        self.l=int(input(\"Enter The length: \"))\n",
    "        self.w=int(input(\"Enter The width: \"))\n",
    "        return (2*(self.l+self.w))\n",
    "r1=Rectangle()\n",
    "print(\"The Perimeter of Rectangle is: \",r1.rect())\n"
   ]
  },
  {
   "cell_type": "markdown",
   "metadata": {},
   "source": [
    "## Ques4"
   ]
  },
  {
   "cell_type": "code",
   "execution_count": null,
   "metadata": {},
   "outputs": [],
   "source": [
    "class Circle:\n",
    "    rad=0.0\n",
    "    def __init__(self):\n",
    "        self.rad=float(input(\"Enter The Radius: \"))\n",
    "    def areac(self):\n",
    "        return (3.14*self.rad*self.rad)\n",
    "    def perr(self):\n",
    "        return (2*3.14*self.rad)\n",
    "c1=Circle()\n",
    "print(\"The Area Of the circle is: \" ,c1.areac())\n",
    "print(\"The Perimeter of the rectangle is: \" , c1.perr())\n"
   ]
  },
  {
   "cell_type": "markdown",
   "metadata": {},
   "source": [
    "## Ques5"
   ]
  },
  {
   "cell_type": "code",
   "execution_count": null,
   "metadata": {},
   "outputs": [],
   "source": [
    "class Circle:\n",
    "    rad=0.0\n",
    "    def __init__(self):\n",
    "        self.rad=float(input(\"Enter The Radius\"))\n",
    "    def areac(self):\n",
    "        return (3.14*self.rad*self.rad)\n",
    "    def circum(self):\n",
    "        return (2*3.14*self.rad)\n",
    "c2=Circle()\n",
    "print(\"The Area Of circle is\" ,c2.areac())\n",
    "print(\"The Perimeter of rect is\" , c2.perr())\n"
   ]
  },
  {
   "cell_type": "markdown",
   "metadata": {},
   "source": [
    "## Ques6"
   ]
  },
  {
   "cell_type": "code",
   "execution_count": null,
   "metadata": {},
   "outputs": [],
   "source": [
    "Class Temp:\n",
    "    f=0.0\n",
    "    c=0.0\n",
    "    def convf(self):\n",
    "        self.f=int(input(\"Enter the Temp in F\"))\n",
    "        return ((self.f-32)/1.8)\n",
    "    def convc(self):\n",
    "        self.c=int(input(\"Enter The Temp in c\"))\n",
    "        return ((self.c*1.8)+32)\n",
    "te=Temp()\n",
    "print(\"The Conversion of F to C is\",te.convf())\n",
    "print(\"The Conversion of C to F is\", te.convc())\n"
   ]
  },
  {
   "cell_type": "markdown",
   "metadata": {},
   "source": [
    "## Ques7"
   ]
  },
  {
   "cell_type": "code",
   "execution_count": null,
   "metadata": {},
   "outputs": [],
   "source": [
    "class student():\n",
    "    name=\"\"\n",
    "    marks=0\n",
    "    age=0\n",
    "    Roll_No=\"\"\n",
    "    def display(self):\n",
    "        return (self.name,self.marks,self.Roll_No)\n",
    "    def setage(self):\n",
    "        self.age=int(input(\"Enter The Age of Student\"))\n",
    "        return (self.age)\n",
    "    def setmarks(self):\n",
    "        self.marks=int(input(\"Enter The Marks Of Student\"))\n",
    "        return (self.marks)\n",
    "stu=student()\n",
    "stu.name=\"Halwa\"\n",
    "stu.marks=2000\n",
    "stu.Roll_No=\"2K18CSUN01064\"\n",
    "print(stu.display())\n",
    "print(\"The age of Student is\", stu.setage())\n",
    "print(\"The Update Marks Of Student is\", stu.setmarks())"
   ]
  },
  {
   "cell_type": "markdown",
   "metadata": {},
   "source": [
    "## Ques8"
   ]
  },
  {
   "cell_type": "code",
   "execution_count": null,
   "metadata": {},
   "outputs": [],
   "source": [
    "class Time:\n",
    "    hour = 0\n",
    "    hour1 = 0\n",
    "    min = 0\n",
    "    min1 = 0\n",
    "    tothr=0\n",
    "    totmin=0\n",
    "\n",
    "    def addTime(self):\n",
    "        self.hour = int(input(\"Enter The Hour \"))\n",
    "        self.min = int(input(\"Enter the minute\"))\n",
    "        self.hour1 = int(input(\"Enter Another hour\"))\n",
    "        self.min1 = int(input(\"Enter Another Minute\"))\n",
    "\n",
    "    def displaytime(self):\n",
    "        self.tothr=self.hour + self.hour1\n",
    "        self.totmin=self.min + self.min1\n",
    "        print(self.tothr,\"Hour and \",self.totmin,\"min\")\n",
    "    def displaymin(self):\n",
    "        return (60*self.tothr+self.totmin)\n",
    "    b1 = Time()\n",
    "b1.addTime()\n",
    "print(\"The Total Time is\")\n",
    "b1.displaytime()\n",
    "print(\"The Total Minute is\",b1.displaymin())\n"
   ]
  },
  {
   "cell_type": "markdown",
   "metadata": {},
   "source": [
    "## Ques9"
   ]
  },
  {
   "cell_type": "code",
   "execution_count": null,
   "metadata": {},
   "outputs": [],
   "source": [
    "class reversestring:\n",
    "    a=\"\"\n",
    "    def rev_fun(self):\n",
    "        self.a=input(\"Enter The String \")\n",
    "        return self.a[::-1]\n",
    "rev=reversestring()\n",
    "print(rev.rev_fun())"
   ]
  },
  {
   "cell_type": "code",
   "execution_count": null,
   "metadata": {},
   "outputs": [],
   "source": []
  }
 ],
 "metadata": {
  "kernelspec": {
   "display_name": "Python 3",
   "language": "python",
   "name": "python3"
  },
  "language_info": {
   "codemirror_mode": {
    "name": "ipython",
    "version": 3
   },
   "file_extension": ".py",
   "mimetype": "text/x-python",
   "name": "python",
   "nbconvert_exporter": "python",
   "pygments_lexer": "ipython3",
   "version": "3.7.4"
  }
 },
 "nbformat": 4,
 "nbformat_minor": 2
}
